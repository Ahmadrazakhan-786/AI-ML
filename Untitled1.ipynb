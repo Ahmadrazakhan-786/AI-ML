{
 "cells": [
  {
   "cell_type": "code",
   "execution_count": 2,
   "id": "be657ba2-75bc-4fb7-abba-1efb07c355a7",
   "metadata": {},
   "outputs": [],
   "source": [
    "import numpy as np"
   ]
  },
  {
   "cell_type": "code",
   "execution_count": 3,
   "id": "2d0a251a-f542-48b1-88a8-9b68fc0cdcc9",
   "metadata": {},
   "outputs": [
    {
     "name": "stdout",
     "output_type": "stream",
     "text": [
      "Array [1 2 3 4 5]\n",
      "Type: <class 'numpy.ndarray'>\n"
     ]
    }
   ],
   "source": [
    "arr1 = np.array([1,2,3,4,5])\n",
    "print(\"Array\", arr1)\n",
    "print(\"Type:\", type(arr1))"
   ]
  },
  {
   "cell_type": "code",
   "execution_count": 4,
   "id": "5e4cdb03-e00e-41b1-9cda-8fbe9abf46b9",
   "metadata": {},
   "outputs": [
    {
     "name": "stdout",
     "output_type": "stream",
     "text": [
      "2D Array:\n",
      " [[1 2 3 4 5]\n",
      " [8 3 2 1 8]]\n"
     ]
    }
   ],
   "source": [
    "arr2 = np.array([[1,2,3,4,5],[8,3,2,1,8]])\n",
    "print(\"2D Array:\\n\", arr2)"
   ]
  },
  {
   "cell_type": "code",
   "execution_count": 6,
   "id": "36fee4e1-e15c-4600-b758-8574689d50f1",
   "metadata": {},
   "outputs": [
    {
     "name": "stdout",
     "output_type": "stream",
     "text": [
      "Shape (2, 5)\n",
      "Size 10\n",
      "Dim 2\n"
     ]
    }
   ],
   "source": [
    "print(\"Shape\", arr2.shape)\n",
    "print(\"Size\", arr2.size)\n",
    "print(\"Dim\", arr2.ndim)"
   ]
  },
  {
   "cell_type": "code",
   "execution_count": 11,
   "id": "9f368add-82d8-4a87-8d8f-13bbfb1811f5",
   "metadata": {},
   "outputs": [
    {
     "name": "stdout",
     "output_type": "stream",
     "text": [
      "Ones:\n",
      " [[1. 1. 1.]\n",
      " [1. 1. 1.]]\n",
      "Zeros:\n",
      " [[0. 0. 0.]\n",
      " [0. 0. 0.]]\n",
      "Random:\n",
      " [[0.41205782 0.62557315 0.33698896]\n",
      " [0.0880748  0.88276402 0.57188599]]\n"
     ]
    }
   ],
   "source": [
    "zeros = np.zeros((2,3))\n",
    "ones = np.ones((2,3))\n",
    "rand = np.random.rand(2,3)\n",
    "\n",
    "print(\"Ones:\\n\", ones)\n",
    "print(\"Zeros:\\n\",zeros)\n",
    "print(\"Random:\\n\", rand)"
   ]
  },
  {
   "cell_type": "code",
   "execution_count": 5,
   "id": "1002ef6c-4e7d-4242-90ee-611e8366ee34",
   "metadata": {},
   "outputs": [
    {
     "name": "stdout",
     "output_type": "stream",
     "text": [
      "Reshaped:\n",
      " [[1 2]\n",
      " [3 4]\n",
      " [5 6]]\n",
      "Flattened:\n",
      " [1 2 3 4 5 6]\n"
     ]
    }
   ],
   "source": [
    "import numpy as np\n",
    "a = np.array([[1,2], [3,4], [5,6]])\n",
    "reshaped = a.reshape(3,2)\n",
    "flattened = a.flatten()\n",
    "\n",
    "print(\"Reshaped:\\n\", reshaped)\n",
    "print(\"Flattened:\\n\", flattened)"
   ]
  },
  {
   "cell_type": "code",
   "execution_count": null,
   "id": "effe7a75-28da-40ac-89f1-13f45cf4e9ef",
   "metadata": {},
   "outputs": [],
   "source": []
  }
 ],
 "metadata": {
  "kernelspec": {
   "display_name": "Python 3",
   "language": "python",
   "name": "python3"
  },
  "language_info": {
   "codemirror_mode": {
    "name": "ipython",
    "version": 3
   },
   "file_extension": ".py",
   "mimetype": "text/x-python",
   "name": "python",
   "nbconvert_exporter": "python",
   "pygments_lexer": "ipython3",
   "version": "3.13.5"
  }
 },
 "nbformat": 4,
 "nbformat_minor": 5
}
